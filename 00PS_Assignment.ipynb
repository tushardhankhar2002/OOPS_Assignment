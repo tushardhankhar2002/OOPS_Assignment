{
  "nbformat": 4,
  "nbformat_minor": 0,
  "metadata": {
    "colab": {
      "provenance": []
    },
    "kernelspec": {
      "name": "python3",
      "display_name": "Python 3"
    },
    "language_info": {
      "name": "python"
    }
  },
  "cells": [
    {
      "cell_type": "markdown",
      "source": [
        "OOPS ASSIGNMENT SOLUTION:\n",
        "THEORY SOLUTION\n",
        "\n",
        "---\n",
        "\n",
        "\n",
        "Q1- What is object oriented programming(OOP)?\n",
        "\n",
        "A1- Object-Oriented Programming (OOP) is a programming paradigm based on the concept of \"objects\", which are instances of classes. It allows you to model real-world things in code using objects that contain data (attributes) and behaviors (methods).\n",
        "\n",
        "Q2- What is a class in OOP?\n",
        "\n",
        "A2-A class is a blueprint or template for creating objects in Object-Oriented Programming.\n",
        "\n",
        "It defines the attributes (data) and methods (functions) that the created objects (also called instances) will have.\n",
        "\n",
        "Q3-What is an object in OOP?\n",
        "\n",
        "A3- In Object-Oriented Programming (OOP), an object is a self-contained unit that bundles data (attributes) and behavior (methods) together.\n",
        "\n",
        "It is created based on a class, which acts as a blueprint. An object represents a real-world entity like a person, car, bank account, etc.\n",
        "\n",
        "Q4- What is the differnce between abstraction and encapsulation?\n",
        "\n",
        "A4-Abstraction = \"Don’t show me how it works, just show me what it does.\"\n",
        "\n",
        "Encapsulation = \"Keep data safe and private inside the object.\"\n",
        "\n",
        "Q5-What are the dunder methods in python?\n",
        "\n",
        "A5- Dunder methods (also called magic methods or special methods) are built-in methods in Python that have double underscores before and after their names, like init, str, len, etc.\n",
        "\n",
        "These methods are automatically called by Python in certain situations, and they allow you to customize the behavior of your own classes.\n",
        "\n",
        "Q6- Explain the concept of inheritance in OOP?\n",
        "\n",
        "A6- Inheritance is one of the core concepts of OOP. It allows a class (child class) to inherit properties and behaviors (attributes and methods) from another class (parent class)\n",
        "\n",
        "Q7- What is polymorphism in OOP?\n",
        "\n",
        "A7-Polymorphism means \"many forms\". In Object-Oriented Programming (OOP), it refers to the ability of different objects to respond to the same method in different ways.\n",
        "\n",
        "Q8-How is encapsulation achieved in python?\n",
        "\n",
        "A8-Encapsulation is a core concept of Object-Oriented Programming (OOP) that refers to wrapping data (attributes) and methods (functions) into a single unit (class) and restricting direct access to some of the object's components.\n",
        "\n",
        "Q9- What is constructor in python?\n",
        "\n",
        "A9- In Python, a constructor is a special method used to initialize an object when it is created. It automatically runs when you create (instantiate) a new object from a class.\n",
        "\n",
        "Q10-What are class and static methods in python?\n",
        "\n",
        "A10-In Python, both class methods and static methods are used to define methods inside a class that are not dependent on instance-specific data. However, they serve different purposes and are used in different situations\n",
        "\n",
        "Q11-What is method overloading in python?\n",
        "\n",
        "A11- Method Overloading means defining multiple methods with the same name but with different arguments (number or type). It’s a feature in many programming languages like Java or C++, but in Python, it's handled differently.\n",
        "\n",
        "Q12-What is method overriding in OOP?\n",
        "\n",
        "A12- Method Overriding is a feature of Object-Oriented Programming (OOP) where a child class provides a specific implementation of a method that is already defined in its parent class.\n",
        "\n",
        "Q13- What is a property decorator in python?\n",
        "\n",
        "A13-The @property decorator in Python is used to turn a method into a \"read-only\" attribute. It allows you to define getter, setter, and deleter methods in a clean, Pythonic way, while still using attribute-style access.\n",
        "\n",
        "Q14- Why is polymorphism important in OOP?\n",
        "\n",
        "A14- Polymorphism is a core concept in Object-Oriented Programming (OOP) that allows objects of different classes to be treated as objects of a common base class. It lets the same interface be used for different underlying data types or class implementations.\n",
        "\n",
        "Q15-What is an abstract class in pyhton?\n",
        "\n",
        "A15- An abstract class in Python is a class that cannot be instantiated on its own. It is designed to serve as a blueprint for other classes. Abstract classes can define abstract methods that must be implemented by any subclass.\n",
        "\n",
        "Q16-What are the advantage of OOP?\n",
        "\n",
        "A16-Object-Oriented Programming (OOP) offers a structured and modular approach to writing software. It helps developers build scalable, maintainable, and reusable code.\n",
        "\n",
        "Q17- What is the differnce between a class variable and an instance variable?\n",
        "\n",
        "A17-In Python, class variables and instance variables are both used to store data, but they have different scopes and lifetimes.\n",
        "\n",
        "Q18- What is multiple inheritance in python?\n",
        "\n",
        "A18-Multiple inheritance is a feature in Python where a class can inherit from more than one parent class. This means a child class can access the attributes and methods of all its parent classes.\n",
        "\n",
        "Q19- Explain the purpose of \"str'and'repr'method in python.\n",
        "\n",
        "A19-In Python, str and repr are special methods used to represent objects as strings. They provide different string representations for different purposes. str(self): This method returns a user-friendly string representation of an object. It is called when using the str() function or when printing an object. The goal of str is to provide a human-readable output, focusing on clarity and ease of understanding. If str is not defined, Python falls back to using repr. repr(self): This method returns a more technical and unambiguous string representation of an object. It is called when using the repr() function or when an object is displayed in the interactive interpreter. The goal of repr is to provide a string that can be used to recreate the object, or at least provide detailed information about its state for debugging and logging purposes.\n",
        "\n",
        "Q20-What is the significance of the \"super()' function in python?\n",
        "\n",
        "A20-The super() function in Python is used to call methods from a parent (or superclass) inside a child class. It plays a key role in inheritance and helps with code reuse and maintaining proper method resolution order (MRO).\n",
        "\n",
        "Q21- What is the significance of the del method in python?\n",
        "\n",
        "A21-The del() method in Python is a destructor. It is called automatically when an object is about to be destroyed (i.e., when it’s garbage collected or goes out of scope).\n",
        "\n",
        "Q22- What is the difference between @staticmethod and @classmethod in python?\n",
        "\n",
        "A22- The main difference between @staticmethod and @classmethod lies in their interaction with the class and its instances. @staticmethod: It is a function defined within a class but does not receive the class or instance as an implicit first argument. It behaves like a regular function, but is namespaced within the class. It cannot access or modify class or instance attributes directly. It is used for utility functions logically related to the class but independent of its state. @classmethod: It receives the class itself as an implicit first argument, conventionally named cls. It can access and modify class attributes. It cannot access instance attributes directly. It is used for factory methods, alternative constructors, or operations involving the class itself. Python\n",
        "\n",
        "Q23-How does polymorphism work in pyhton with inheritance?\n",
        "\n",
        "A23-Polymorphism in Python means \"many forms\" — it allows objects of different classes to be treated through a common interface, especially when using inheritance.\n",
        "\n",
        "With inheritance, child classes can override methods from their parent class, and Python can call the correct method depending on the object, not the reference type.\n",
        "\n",
        "Q24-What is method chaining in pyhton OOP?\n",
        "\n",
        "A24-Method chaining is a programming technique where multiple methods are called in a single line, one after another, using the dot (.) operator.\n",
        "\n",
        "Q25-What is the purpose of the cAll method in pyhton?\n",
        "\n",
        "A25-The call() method allows an object to be called like a function.\n",
        "\n",
        "If a class defines call, you can \"call\" its instances using parentheses () — just like you'd call a function."
      ],
      "metadata": {
        "id": "DlLKbjSNhu9f"
      }
    },
    {
      "cell_type": "markdown",
      "source": [
        "PRACTIAL QUESTIN SOLUTION:\n",
        "\n",
        "Q1- Create a parent class animal with a method speak() that print a generic message . craete a chid class dog that overrides the speak () method to print \"Bark\""
      ],
      "metadata": {
        "id": "SkhR2afGiFWF"
      }
    },
    {
      "cell_type": "code",
      "source": [
        "class Animal:\n",
        "    def speak(self):\n",
        "        print(\"The animal makes a sound.\")\n",
        "\n",
        "class Dog(Animal):\n",
        "    def speak(self):\n",
        "        print(\"Bark\")\n",
        "\n",
        "# Creating objects\n",
        "a = Animal()\n",
        "d = Dog()\n",
        "\n",
        "# Calling the speak() method\n",
        "a.speak()\n",
        "d.speak()\n"
      ],
      "metadata": {
        "colab": {
          "base_uri": "https://localhost:8080/"
        },
        "id": "x7XStOjuiMMJ",
        "outputId": "78a37efa-8ed8-4d7f-a941-67769b7ebf52"
      },
      "execution_count": 5,
      "outputs": [
        {
          "output_type": "stream",
          "name": "stdout",
          "text": [
            "The animal makes a sound.\n",
            "Bark\n"
          ]
        }
      ]
    },
    {
      "cell_type": "markdown",
      "source": [
        "Q2- Write a program to create an abstract class shape with a method area() Derive classes circle and rectangle from it and implement the are () method in both"
      ],
      "metadata": {
        "id": "55lvhE17iKBt"
      }
    },
    {
      "cell_type": "code",
      "execution_count": 4,
      "metadata": {
        "colab": {
          "base_uri": "https://localhost:8080/"
        },
        "id": "mICz1MxXhqMs",
        "outputId": "2a155337-2314-4c77-f0d7-6936dae74387"
      },
      "outputs": [
        {
          "output_type": "stream",
          "name": "stdout",
          "text": [
            "Circle Area: 153.93804002589985\n",
            "Rectangle Area: 48\n"
          ]
        }
      ],
      "source": [
        "from abc import ABC, abstractmethod\n",
        "import math\n",
        "\n",
        "# Abstract class\n",
        "class Shape(ABC):\n",
        "    @abstractmethod\n",
        "    def area(self):\n",
        "        pass\n",
        "\n",
        "# Circle class\n",
        "class Circle(Shape):\n",
        "    def __init__(self, radius):\n",
        "        self.radius = radius\n",
        "\n",
        "    def area(self):\n",
        "        return math.pi * self.radius ** 2\n",
        "\n",
        "# Rectangle class\n",
        "class Rectangle(Shape):\n",
        "    def __init__(self, length, width):\n",
        "        self.length = length\n",
        "        self.width = width\n",
        "\n",
        "    def area(self):\n",
        "        return self.length * self.width\n",
        "\n",
        "# Creating objects and testing\n",
        "circle = Circle(7)\n",
        "rectangle = Rectangle(6, 8)\n",
        "\n",
        "print(\"Circle Area:\", circle.area())\n",
        "print(\"Rectangle Area:\", rectangle.area())\n"
      ]
    },
    {
      "cell_type": "markdown",
      "source": [
        "Q3- Implement a multi-level inheritance scenario where a class vehicle has an attribute type . derive a class car and further derive a class electric car that adds a battery attribute."
      ],
      "metadata": {
        "id": "seKu5bhlimOZ"
      }
    },
    {
      "cell_type": "code",
      "source": [
        "# Base class\n",
        "class Vehicle:\n",
        "    def __init__(self, type):\n",
        "        self.type = type\n",
        "\n",
        "    def display_info(self):\n",
        "        print(f\"Vehicle type: {self.type}\")\n",
        "\n",
        "# Derived class from Vehicle\n",
        "class Car(Vehicle):\n",
        "    def __init__(self, type, brand):\n",
        "        super().__init__(type)\n",
        "        self.brand = brand\n",
        "\n",
        "    def display_info(self):\n",
        "        super().display_info()\n",
        "        print(f\"Car brand: {self.brand}\")\n",
        "\n",
        "# Further derived class from Car\n",
        "class ElectricCar(Car):\n",
        "    def __init__(self, type, brand, battery):\n",
        "        super().__init__(type, brand)\n",
        "        self.battery = battery\n",
        "\n",
        "    def display_info(self):\n",
        "        super().display_info()\n",
        "        print(f\"Battery capacity: {self.battery} kWh\")\n",
        "\n",
        "# Example usage\n",
        "e_car = ElectricCar(\"Four wheeler\", \"mahindra\", 250)\n",
        "e_car.display_info()"
      ],
      "metadata": {
        "colab": {
          "base_uri": "https://localhost:8080/"
        },
        "id": "JJWucz23ipyQ",
        "outputId": "f5998b57-cffe-4c60-b650-848bc35bca7d"
      },
      "execution_count": 3,
      "outputs": [
        {
          "output_type": "stream",
          "name": "stdout",
          "text": [
            "Vehicle type: Four wheeler\n",
            "Car brand: mahindra\n",
            "Battery capacity: 250 kWh\n"
          ]
        }
      ]
    },
    {
      "cell_type": "markdown",
      "source": [
        "Q4- Demonstrate polymorphism by creating a base class bird with a method fly (). Create two derived classes sparrow and penguin that override the fly()method"
      ],
      "metadata": {
        "id": "moEbxSMciuoY"
      }
    },
    {
      "cell_type": "code",
      "source": [
        "\n",
        "# Base class\n",
        "class Bird:\n",
        "    def fly(self):\n",
        "        print(\"This bird can fly.\")\n",
        "\n",
        "# Derived class\n",
        "class Sparrow(Bird):\n",
        "    def fly(self):\n",
        "        print(\"Sparrow is flying high in the sky!\")\n",
        "\n",
        "# Derived class\n",
        "class Penguin(Bird):\n",
        "    def fly(self):\n",
        "        print(\"Penguins can't fly, but they swim very well!\")\n",
        "\n",
        "# Function to demonstrate polymorphism\n",
        "def show_flying_ability(bird):\n",
        "    bird.fly()\n",
        "\n",
        "# Example usage\n",
        "birds = [Sparrow(), Penguin()]\n",
        "\n",
        "for bird in birds:\n",
        "    show_flying_ability(bird)\n"
      ],
      "metadata": {
        "colab": {
          "base_uri": "https://localhost:8080/"
        },
        "id": "MlV_1YP7ixV8",
        "outputId": "c7e5f447-5fd4-4c98-ffde-14a54b348ae8"
      },
      "execution_count": 1,
      "outputs": [
        {
          "output_type": "stream",
          "name": "stdout",
          "text": [
            "Sparrow is flying high in the sky!\n",
            "Penguins can't fly, but they swim very well!\n"
          ]
        }
      ]
    },
    {
      "cell_type": "markdown",
      "source": [
        "Q5- Write a program to demonstrate encapsulation by creating a class BankAccount with private attributes balance and method to deposit, withdraw, and check balance"
      ],
      "metadata": {
        "id": "G_v1zI8ii7PH"
      }
    },
    {
      "cell_type": "code",
      "source": [
        "class BankAccount:\n",
        "    def __init__(self, initial_balance=0):\n",
        "        self.__balance = initial_balance  # private attribute\n",
        "\n",
        "    def deposit(self, amount):\n",
        "        if amount > 0:\n",
        "            self.__balance += amount\n",
        "            print(f\"Deposited: ${amount}\")\n",
        "        else:\n",
        "            print(\"Invalid deposit amount!\")\n",
        "\n",
        "    def withdraw(self, amount):\n",
        "        if 0 < amount <= self.__balance:\n",
        "            self.__balance -= amount\n",
        "            print(f\"Withdrew: ${amount}\")\n",
        "        else:\n",
        "            print(\"Insufficient balance or invalid amount!\")\n",
        "\n",
        "    def check_balance(self):\n",
        "        print(f\"Current balance: ${self.__balance}\")\n",
        "\n",
        "# Example usage\n",
        "account = BankAccount(100)\n",
        "account.check_balance()\n",
        "\n",
        "account.deposit(50)\n",
        "account.withdraw(30)\n",
        "account.withdraw(150)  # Trying to withdraw more than the balance\n",
        "\n",
        "account.check_balance()\n",
        "\n",
        "# Trying to access private attribute directly (will raise an error)\n",
        "# print(account.__balance)  # Uncommenting this will cause an AttributeError\n"
      ],
      "metadata": {
        "colab": {
          "base_uri": "https://localhost:8080/"
        },
        "id": "NeFVrVeHjFfQ",
        "outputId": "f8077875-4834-4b1b-84a4-7d228292ea33"
      },
      "execution_count": 2,
      "outputs": [
        {
          "output_type": "stream",
          "name": "stdout",
          "text": [
            "Current balance: $100\n",
            "Deposited: $50\n",
            "Withdrew: $30\n",
            "Insufficient balance or invalid amount!\n",
            "Current balance: $120\n"
          ]
        }
      ]
    },
    {
      "cell_type": "markdown",
      "source": [
        "Q6- Demonstrate runtime polymorphism using a method play() in a base class instrument. derive class guitar and piano that implement their own version of play()"
      ],
      "metadata": {
        "id": "yZT-T2nJjKB1"
      }
    },
    {
      "cell_type": "code",
      "source": [
        "# Base class\n",
        "class Instrument:\n",
        "    def play(self):\n",
        "        print(\"Playing an instrument.\")\n",
        "\n",
        "# Derived class\n",
        "class Guitar(Instrument):\n",
        "    def play(self):\n",
        "        print(\"Strumming the guitar.\")\n",
        "\n",
        "# Derived class\n",
        "class Piano(Instrument):\n",
        "    def play(self):\n",
        "        print(\"Playing the piano keys.\")\n",
        "\n",
        "# Function to demonstrate runtime polymorphism\n",
        "def perform(instrument):\n",
        "    instrument.play()\n",
        "\n",
        "# Example usage\n",
        "instruments = [Guitar(), Piano()]\n",
        "\n",
        "for inst in instruments:\n",
        "    perform(inst)\n"
      ],
      "metadata": {
        "colab": {
          "base_uri": "https://localhost:8080/"
        },
        "id": "B8NzVUQ0jpwn",
        "outputId": "c765de02-fff8-4418-fcf5-460d76048856"
      },
      "execution_count": 6,
      "outputs": [
        {
          "output_type": "stream",
          "name": "stdout",
          "text": [
            "Strumming the guitar.\n",
            "Playing the piano keys.\n"
          ]
        }
      ]
    },
    {
      "cell_type": "markdown",
      "source": [
        "Q7-Create a class math operations with a clss method add_numbers() to add two numbers and a static method substract_numbers() to substract two numbers"
      ],
      "metadata": {
        "id": "HmLyH2Uaj8eg"
      }
    },
    {
      "cell_type": "code",
      "source": [
        "class MathOperations:\n",
        "    @classmethod\n",
        "    def add_numbers(cls, a, b):\n",
        "        return a + b\n",
        "\n",
        "    @staticmethod\n",
        "    def subtract_numbers(a, b):\n",
        "        return a - b\n",
        "\n",
        "# Example usage\n",
        "sum_result = MathOperations.add_numbers(57, 45)\n",
        "sub_result = MathOperations.subtract_numbers(57, 45)\n",
        "\n",
        "print(f\"Sum: {sum_result}\")\n",
        "print(f\"Difference: {sub_result}\")\n"
      ],
      "metadata": {
        "colab": {
          "base_uri": "https://localhost:8080/"
        },
        "id": "wqbQWjLRkAoj",
        "outputId": "f1689cd0-ad3b-4e2f-a36a-064e514a0ce0"
      },
      "execution_count": 7,
      "outputs": [
        {
          "output_type": "stream",
          "name": "stdout",
          "text": [
            "Sum: 102\n",
            "Difference: 12\n"
          ]
        }
      ]
    },
    {
      "cell_type": "markdown",
      "source": [
        "Q8- Implement a class person with a class method to count the total number of person created\n",
        "\n"
      ],
      "metadata": {
        "id": "snJOEm3vkFn8"
      }
    },
    {
      "cell_type": "code",
      "source": [
        "class Person:\n",
        "    __total = 0  # private class variable\n",
        "\n",
        "    def __init__(self, name):\n",
        "        self.name = name\n",
        "        Person.__increment_count()\n",
        "\n",
        "    @classmethod\n",
        "    def __increment_count(cls):\n",
        "        cls.__total += 1\n",
        "\n",
        "    @classmethod\n",
        "    def get_total_persons(cls):\n",
        "        return cls.__total\n",
        "\n",
        "# Example usage\n",
        "p1 = Person(\"Tushar\")\n",
        "p2 = Person(\"Sara\")\n",
        "\n",
        "print(f\"Total persons created: {Person.get_total_persons()}\")\n"
      ],
      "metadata": {
        "colab": {
          "base_uri": "https://localhost:8080/"
        },
        "id": "u9zZ-IcDkFKW",
        "outputId": "8dec597a-953c-4b34-b5dc-c2d746bd7e54"
      },
      "execution_count": 19,
      "outputs": [
        {
          "output_type": "stream",
          "name": "stdout",
          "text": [
            "Total persons created: 2\n"
          ]
        }
      ]
    },
    {
      "cell_type": "markdown",
      "source": [
        "Q9-Write a class fraction with attribute numerator and denominator. override the str method to display the fraction as \"numerator/denominator\n",
        "\n"
      ],
      "metadata": {
        "id": "IilLBC5-kMJH"
      }
    },
    {
      "cell_type": "code",
      "source": [
        "class Fraction:\n",
        "    def __init__(self, numerator, denominator):\n",
        "        self.numerator = numerator\n",
        "        self.denominator = denominator\n",
        "\n",
        "    def __str__(self):\n",
        "        return f\"{self.numerator}/{self.denominator}\"\n",
        "\n",
        "# Example usage\n",
        "f1 = Fraction(3, 4)\n",
        "f2 = Fraction(7, 2)\n",
        "\n",
        "print(f\"Fraction 1: {f1}\")\n",
        "print(f\"Fraction 2: {f2}\")\n"
      ],
      "metadata": {
        "colab": {
          "base_uri": "https://localhost:8080/"
        },
        "id": "KnGhLu8FkM1S",
        "outputId": "d741a63d-150d-4617-8e60-ed153af6f372"
      },
      "execution_count": 9,
      "outputs": [
        {
          "output_type": "stream",
          "name": "stdout",
          "text": [
            "Fraction 1: 3/4\n",
            "Fraction 2: 7/2\n"
          ]
        }
      ]
    },
    {
      "cell_type": "markdown",
      "source": [
        "Q10-Demonstrate operator overloading by creating a class vector and overriding the add method to add two vectors\n",
        "\n"
      ],
      "metadata": {
        "id": "u5OW03fAkQXw"
      }
    },
    {
      "cell_type": "code",
      "source": [
        "class Vector:\n",
        "    def __init__(self, x, y):\n",
        "        self.x = x\n",
        "        self.y = y\n",
        "\n",
        "    # Operator overloading for '+'\n",
        "    def __add__(self, other):\n",
        "        return Vector(self.x + other.x, self.y + other.y)\n",
        "\n",
        "    # For a readable printout\n",
        "    def __str__(self):\n",
        "        return f\"({self.x}, {self.y})\"\n",
        "\n",
        "# Example usage\n",
        "v1 = Vector(2, 3)\n",
        "v2 = Vector(4, 5)\n",
        "\n",
        "v3 = v1 + v2  # Uses the overloaded __add__ method\n",
        "\n",
        "print(f\"Vector 1: {v1}\")\n",
        "print(f\"Vector 2: {v2}\")\n",
        "print(f\"Sum: {v3}\")"
      ],
      "metadata": {
        "colab": {
          "base_uri": "https://localhost:8080/"
        },
        "id": "J6UjXPX8kShY",
        "outputId": "5bd4bd9e-19b5-48cf-e2ed-08c8d2526607"
      },
      "execution_count": 10,
      "outputs": [
        {
          "output_type": "stream",
          "name": "stdout",
          "text": [
            "Vector 1: (2, 3)\n",
            "Vector 2: (4, 5)\n",
            "Sum: (6, 8)\n"
          ]
        }
      ]
    },
    {
      "cell_type": "markdown",
      "source": [
        "Q11- Create a class person with attributes name and age. Add a method greet() that prints \"hello my name is {name} and i am {age} old\n",
        "\n"
      ],
      "metadata": {
        "id": "nSHc4FcXkWSm"
      }
    },
    {
      "cell_type": "code",
      "source": [
        "class Person:\n",
        "    def __init__(self, name, age):\n",
        "        self.name = name\n",
        "        self.age = age\n",
        "\n",
        "    def greet(self):\n",
        "        print(f\"Hello, my name is {self.name} and I am {self.age} years old.\")\n",
        "\n",
        "# Example usage\n",
        "p1 = Person(\"Tushar\", 22)\n",
        "p2 = Person(\"Bharat\", 30)\n",
        "\n",
        "p1.greet()\n",
        "p2.greet()"
      ],
      "metadata": {
        "colab": {
          "base_uri": "https://localhost:8080/"
        },
        "id": "yjZ_57tFkZPi",
        "outputId": "da300a7e-2e91-4a0b-ea6b-ce96165a7c69"
      },
      "execution_count": 20,
      "outputs": [
        {
          "output_type": "stream",
          "name": "stdout",
          "text": [
            "Hello, my name is Tushar and I am 22 years old.\n",
            "Hello, my name is Bharat and I am 30 years old.\n"
          ]
        }
      ]
    },
    {
      "cell_type": "markdown",
      "source": [
        "Q12-Implement a class student with attributes name and grades . create a method average_grade() to compute the average of the grades ?\n",
        "\n"
      ],
      "metadata": {
        "id": "e0hlpseBkcmD"
      }
    },
    {
      "cell_type": "code",
      "source": [
        "class Student:\n",
        "    def __init__(self, name, grades):\n",
        "        self.name = name\n",
        "        self.grades = grades  # List of grades\n",
        "\n",
        "    def average_grade(self):\n",
        "        if self.grades:\n",
        "            return sum(self.grades) / len(self.grades)\n",
        "        else:\n",
        "            return 0  # Avoid division by zero\n",
        "\n",
        "# Example usage\n",
        "s1 = Student(\"Tushar\", [85, 90, 78])\n",
        "s2 = Student(\"Oshin\", [92, 88])\n",
        "\n",
        "print(f\"{s1.name}'s average grade: {s1.average_grade():.2f}\")\n",
        "print(f\"{s2.name}'s average grade: {s2.average_grade():.2f}\")\n"
      ],
      "metadata": {
        "colab": {
          "base_uri": "https://localhost:8080/"
        },
        "id": "_k8GO-61kev2",
        "outputId": "4bbe3f79-6ccb-49d6-d90a-865837cc9162"
      },
      "execution_count": 21,
      "outputs": [
        {
          "output_type": "stream",
          "name": "stdout",
          "text": [
            "Tushar's average grade: 84.33\n",
            "Oshin's average grade: 90.00\n"
          ]
        }
      ]
    },
    {
      "cell_type": "markdown",
      "source": [
        "Q13-Create a class rectangle with method set_dimensions() to set the dimension and area() too calculate the area\n",
        "\n"
      ],
      "metadata": {
        "id": "aMB0X_vmkidM"
      }
    },
    {
      "cell_type": "code",
      "source": [
        "class Rectangle:\n",
        "    def __init__(self):\n",
        "        self.length = 0\n",
        "        self.width = 0\n",
        "\n",
        "    def set_dimensions(self, length, width):\n",
        "        self.length = length\n",
        "        self.width = width\n",
        "\n",
        "    def area(self):\n",
        "        return self.length * self.width\n",
        "\n",
        "# Example usage\n",
        "rect = Rectangle()\n",
        "rect.set_dimensions(5, 3)\n",
        "\n",
        "print(f\"Area of the rectangle: {rect.area()}\")\n"
      ],
      "metadata": {
        "colab": {
          "base_uri": "https://localhost:8080/"
        },
        "id": "9XyJseJikkOH",
        "outputId": "04160158-a54b-4d6f-8b0a-52aaa2603637"
      },
      "execution_count": 13,
      "outputs": [
        {
          "output_type": "stream",
          "name": "stdout",
          "text": [
            "Area of the rectangle: 15\n"
          ]
        }
      ]
    },
    {
      "cell_type": "markdown",
      "source": [
        "Q14- Create a class. employee with a method calculate_salary() that computes the salary based on hours worked and hourly rate. create a derived clas manager that adds a bonus to the salary."
      ],
      "metadata": {
        "id": "tPtM4J9Xkn6j"
      }
    },
    {
      "cell_type": "code",
      "source": [
        "# Base class\n",
        "class Employee:\n",
        "    def __init__(self, name, hours_worked, hourly_rate):\n",
        "        self.name = name\n",
        "        self.hours_worked = hours_worked\n",
        "        self.hourly_rate = hourly_rate\n",
        "\n",
        "    def calculate_salary(self):\n",
        "        return self.hours_worked * self.hourly_rate\n",
        "\n",
        "# Derived class\n",
        "class Manager(Employee):\n",
        "    def __init__(self, name, hours_worked, hourly_rate, bonus):\n",
        "        super().__init__(name, hours_worked, hourly_rate)\n",
        "        self.bonus = bonus\n",
        "\n",
        "    def calculate_salary(self):\n",
        "        base_salary = super().calculate_salary()\n",
        "        return base_salary + self.bonus\n",
        "\n",
        "# Example usage\n",
        "emp = Employee(\"Tushar\", 40, 20)\n",
        "mgr = Manager(\"BHARAT\", 40, 30, 500)\n",
        "\n",
        "print(f\"{emp.name}'s salary: ${emp.calculate_salary()}\")\n",
        "print(f\"{mgr.name}'s salary (with bonus): ${mgr.calculate_salary()}\")\n"
      ],
      "metadata": {
        "colab": {
          "base_uri": "https://localhost:8080/"
        },
        "id": "htM7qAsCkqeZ",
        "outputId": "0c86eb5b-72e8-4449-8a98-2800b98ba41d"
      },
      "execution_count": 22,
      "outputs": [
        {
          "output_type": "stream",
          "name": "stdout",
          "text": [
            "Tushar's salary: $800\n",
            "BHARAT's salary (with bonus): $1700\n"
          ]
        }
      ]
    },
    {
      "cell_type": "markdown",
      "source": [
        "Q15- Create a class product with attributes names ,place and quantity implement a method total_price() that calculates the total price of the product"
      ],
      "metadata": {
        "id": "SPJkH70Bkudt"
      }
    },
    {
      "cell_type": "code",
      "source": [
        "class Product:\n",
        "    def __init__(self, name, place, quantity, unit_price):\n",
        "        self.name = name\n",
        "        self.place = place\n",
        "        self.quantity = quantity\n",
        "        self.unit_price = unit_price\n",
        "\n",
        "    def total_price(self):\n",
        "        return self.quantity * self.unit_price\n",
        "\n",
        "# Example usage\n",
        "product1 = Product(\"mangoes\", \"Supermarket\", 10, 2.5)\n",
        "\n",
        "print(f\"Product: {product1.name}\")\n",
        "print(f\"Place: {product1.place}\")\n",
        "print(f\"Quantity: {product1.quantity}\")\n",
        "print(f\"Unit Price: ${product1.unit_price}\")\n",
        "print(f\"Total Price: ${product1.total_price()}\")"
      ],
      "metadata": {
        "colab": {
          "base_uri": "https://localhost:8080/"
        },
        "id": "ovnIQWP_kwoM",
        "outputId": "844a2539-99f0-46ae-def5-99348c301c6a"
      },
      "execution_count": 15,
      "outputs": [
        {
          "output_type": "stream",
          "name": "stdout",
          "text": [
            "Product: mangoes\n",
            "Place: Supermarket\n",
            "Quantity: 10\n",
            "Unit Price: $2.5\n",
            "Total Price: $25.0\n"
          ]
        }
      ]
    },
    {
      "cell_type": "markdown",
      "source": [
        "Q16- Create a class animal with a abstract method sound()create two derived classes cow and sheep that implemnt the sound()method\n",
        "\n"
      ],
      "metadata": {
        "id": "FGgQX3Eekz2B"
      }
    },
    {
      "cell_type": "code",
      "source": [
        "from abc import ABC, abstractmethod\n",
        "\n",
        "# Abstract base class\n",
        "class Animal(ABC):\n",
        "    @abstractmethod\n",
        "    def sound(self):\n",
        "        pass\n",
        "\n",
        "# Derived class\n",
        "class Cow(Animal):\n",
        "    def sound(self):\n",
        "        return \"Moo\"\n",
        "\n",
        "# Derived class\n",
        "class Sheep(Animal):\n",
        "    def sound(self):\n",
        "        return \"Baa\"\n",
        "\n",
        "# Example usage\n",
        "cow = Cow()\n",
        "sheep = Sheep()\n",
        "\n",
        "print(f\"Cow says: {cow.sound()}\")\n",
        "print(f\"Sheep says: {sheep.sound()}\")\n"
      ],
      "metadata": {
        "colab": {
          "base_uri": "https://localhost:8080/"
        },
        "id": "jj4RsfAik1qv",
        "outputId": "f4bf8190-6f0a-4374-8648-77cc542693cf"
      },
      "execution_count": 16,
      "outputs": [
        {
          "output_type": "stream",
          "name": "stdout",
          "text": [
            "Cow says: Moo\n",
            "Sheep says: Baa\n"
          ]
        }
      ]
    },
    {
      "cell_type": "markdown",
      "source": [
        "Q17-Create a class book with attributes titile,author and year_published. add a method get_book_info()that returns a formatted string with the book's detail"
      ],
      "metadata": {
        "id": "vpf1dw3Dk4yK"
      }
    },
    {
      "cell_type": "code",
      "source": [
        "class Book:\n",
        "    def __init__(self, title, author, year_published):\n",
        "        self.title = title\n",
        "        self.author = author\n",
        "        self.year_published = year_published\n",
        "\n",
        "    def get_book_info(self):\n",
        "        return f\"'{self.title}' by {self.author} (Published in {self.year_published})\"\n",
        "\n",
        "# Example usage\n",
        "book1 = Book(\"lord of the rings\", \"Harper Lee\", 1960)\n",
        "book2 = Book(\"1984\", \"George Orwell\", 1949)\n",
        "\n",
        "print(book1.get_book_info())\n",
        "print(book2.get_book_info())"
      ],
      "metadata": {
        "colab": {
          "base_uri": "https://localhost:8080/"
        },
        "id": "vUm9lplek-ua",
        "outputId": "14057ce3-aa9a-4c3c-876d-ee22be459174"
      },
      "execution_count": 17,
      "outputs": [
        {
          "output_type": "stream",
          "name": "stdout",
          "text": [
            "'lord of the rings' by Harper Lee (Published in 1960)\n",
            "'1984' by George Orwell (Published in 1949)\n"
          ]
        }
      ]
    },
    {
      "cell_type": "markdown",
      "source": [
        "Q18-Create a class house with attributes address and price . Create a derived class mansion that adds an attribute number_of_rooms\n",
        "\n"
      ],
      "metadata": {
        "id": "ofiW2uHclS6w"
      }
    },
    {
      "cell_type": "code",
      "source": [
        "# Base class\n",
        "class House:\n",
        "    def __init__(self, address, price):\n",
        "        self.address = address\n",
        "        self.price = price\n",
        "\n",
        "# Derived class\n",
        "class Mansion(House):\n",
        "    def __init__(self, address, price, number_of_rooms):\n",
        "        super().__init__(address, price)\n",
        "        self.number_of_rooms = number_of_rooms\n",
        "\n",
        "    def get_info(self):\n",
        "        return (f\"Mansion located at {self.address}, priced at ${self.price}, \"\n",
        "                f\"with {self.number_of_rooms} rooms.\")\n",
        "\n",
        "# Example usage\n",
        "mansion1 = Mansion(\"123 Luxury Lane\", 2000000, 12)\n",
        "\n",
        "print(mansion1.get_info())"
      ],
      "metadata": {
        "colab": {
          "base_uri": "https://localhost:8080/"
        },
        "id": "msbhsPjylVKw",
        "outputId": "edb2074f-ed19-4d3e-b214-160164b6543b"
      },
      "execution_count": 18,
      "outputs": [
        {
          "output_type": "stream",
          "name": "stdout",
          "text": [
            "Mansion located at 123 Luxury Lane, priced at $2000000, with 12 rooms.\n"
          ]
        }
      ]
    },
    {
      "cell_type": "markdown",
      "source": [],
      "metadata": {
        "id": "aMKP8PivlZJa"
      }
    }
  ]
}